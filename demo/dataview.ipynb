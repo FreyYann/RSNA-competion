{
 "cells": [
  {
   "cell_type": "code",
   "execution_count": 1,
   "metadata": {
    "ExecuteTime": {
     "end_time": "2018-09-24T23:16:02.681133Z",
     "start_time": "2018-09-24T23:15:59.568057Z"
    },
    "collapsed": true
   },
   "outputs": [],
   "source": [
    "import numpy as np\n",
    "import matplotlib.pyplot as plt\n",
    "import pandas as pd\n",
    "import os\n",
    "import sys\n",
    "import xml.etree.ElementTree as ET\n",
    "import pydicom\n",
    "import cv2"
   ]
  },
  {
   "cell_type": "code",
   "execution_count": 2,
   "metadata": {
    "ExecuteTime": {
     "end_time": "2018-09-24T23:16:06.184419Z",
     "start_time": "2018-09-24T23:16:06.180677Z"
    },
    "collapsed": false
   },
   "outputs": [],
   "source": [
    "root='/Users/yanxinzhou/course/kaggle/agriculture/data/rsna/data/train'\n",
    "dcm=os.path.join(root,'dcm')\n",
    "anno=os.path.join(root,'anno_folder')"
   ]
  },
  {
   "cell_type": "code",
   "execution_count": 5,
   "metadata": {
    "ExecuteTime": {
     "end_time": "2018-09-24T23:16:40.824756Z",
     "start_time": "2018-09-24T23:16:40.724462Z"
    },
    "collapsed": false
   },
   "outputs": [],
   "source": [
    "dcms=os.listdir(dcm)[:20]\n",
    "annos=os.listdir(anno)[:20]"
   ]
  },
  {
   "cell_type": "code",
   "execution_count": 4,
   "metadata": {
    "ExecuteTime": {
     "end_time": "2018-09-24T23:16:16.572364Z",
     "start_time": "2018-09-24T23:16:16.558920Z"
    },
    "collapsed": true
   },
   "outputs": [],
   "source": [
    "def load_scan(path,datashape):\n",
    "    window_center = -600\n",
    "    window_width = 1500\n",
    "\n",
    "    img=pydicom.read_file(path, force=True).pixel_array\n",
    "    accept=True\n",
    "    img = img.astype(np.int16)\n",
    "    ## todo increase the precision\n",
    "    img = cv2.resize(img, (datashape, datashape))\n",
    "\n",
    "    if (not accept)  and img.shape[0] != datashape:\n",
    "        print ('find {} scale dicom'.format(datashape))\n",
    "        raise NotImplemented\n",
    "\n",
    "    intercept=1#np.stack([s.RescaleIntercept for s in slices])\n",
    "    slope =1# np.stack([s.RescaleSlope for s in slices])\n",
    "    img = img.astype(np.int16).T\n",
    "\n",
    "    return np.array([img,img,img]).T"
   ]
  },
  {
   "cell_type": "code",
   "execution_count": 11,
   "metadata": {
    "ExecuteTime": {
     "end_time": "2018-09-24T23:21:27.779453Z",
     "start_time": "2018-09-24T23:21:27.034499Z"
    },
    "collapsed": false
   },
   "outputs": [],
   "source": [
    "for a in annos:\n",
    "    tree = ET.parse(os.path.join(anno,a))\n",
    "    root = tree.getroot()\n",
    "    box=root[-1][-1]\n",
    "    d=os.path.join(dcm,root[1].text+'.dcm')\n",
    "    img=load_scan(d,512)\n",
    "    width=3\n",
    "    if box[0].text!='0':\n",
    "        xmin=int(float(box[0].text))\n",
    "        xmax=int(float(box[1].text))\n",
    "        ymin=int(float(box[2].text))\n",
    "        ymax=int(float(box[3].text))\n",
    "        \n",
    "        img[ymin:ymax,xmin-width:xmin+width,:]=0\n",
    "        img[ymin:ymax,xmax-width:xmax+width,:]=0\n",
    "        img[ymin-width:ymin+width,xmin:xmax,:]=0\n",
    "        img[ymax-width:ymax+width,xmin:xmax,:]=0\n",
    "        \n",
    "#         cv2.imwrite(root[1].text+'.jpg', img)\n",
    "        cv2.imwrite(os.path.join('/Users/yanxinzhou/course/kaggle/serverrun/playground'\n",
    "                                 ,root[1].text+'.jpg'), img)\n",
    "#     cv2.imshow(root[1].text, img);?"
   ]
  },
  {
   "cell_type": "code",
   "execution_count": 9,
   "metadata": {
    "ExecuteTime": {
     "end_time": "2018-09-24T23:20:00.989630Z",
     "start_time": "2018-09-24T23:20:00.983726Z"
    },
    "collapsed": false
   },
   "outputs": [
    {
     "data": {
      "text/plain": [
       "'/Users/yanxinzhou/course/kaggle/serverrun/playground'"
      ]
     },
     "execution_count": 9,
     "metadata": {},
     "output_type": "execute_result"
    }
   ],
   "source": [
    "pwd\n"
   ]
  },
  {
   "cell_type": "code",
   "execution_count": null,
   "metadata": {
    "collapsed": true
   },
   "outputs": [],
   "source": []
  }
 ],
 "metadata": {
  "anaconda-cloud": {},
  "kernelspec": {
   "display_name": "Python [conda root]",
   "language": "python",
   "name": "conda-root-py"
  },
  "language_info": {
   "codemirror_mode": {
    "name": "ipython",
    "version": 3
   },
   "file_extension": ".py",
   "mimetype": "text/x-python",
   "name": "python",
   "nbconvert_exporter": "python",
   "pygments_lexer": "ipython3",
   "version": "3.5.2"
  },
  "latex_envs": {
   "LaTeX_envs_menu_present": true,
   "autoclose": true,
   "autocomplete": false,
   "bibliofile": "biblio.bib",
   "cite_by": "apalike",
   "current_citInitial": 1,
   "eqLabelWithNumbers": true,
   "eqNumInitial": 1,
   "hotkeys": {
    "equation": "Ctrl-E",
    "itemize": "Ctrl-I"
   },
   "labels_anchors": false,
   "latex_user_defs": false,
   "report_style_numbering": false,
   "user_envs_cfg": false
  },
  "toc": {
   "nav_menu": {},
   "number_sections": true,
   "sideBar": true,
   "skip_h1_title": false,
   "title_cell": "Table of Contents",
   "title_sidebar": "Contents",
   "toc_cell": false,
   "toc_position": {},
   "toc_section_display": true,
   "toc_window_display": false
  },
  "varInspector": {
   "cols": {
    "lenName": 16,
    "lenType": 16,
    "lenVar": 40
   },
   "kernels_config": {
    "python": {
     "delete_cmd_postfix": "",
     "delete_cmd_prefix": "del ",
     "library": "var_list.py",
     "varRefreshCmd": "print(var_dic_list())"
    },
    "r": {
     "delete_cmd_postfix": ") ",
     "delete_cmd_prefix": "rm(",
     "library": "var_list.r",
     "varRefreshCmd": "cat(var_dic_list()) "
    }
   },
   "types_to_exclude": [
    "module",
    "function",
    "builtin_function_or_method",
    "instance",
    "_Feature"
   ],
   "window_display": false
  }
 },
 "nbformat": 4,
 "nbformat_minor": 1
}
